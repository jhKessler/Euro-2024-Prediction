{
 "cells": [
  {
   "cell_type": "code",
   "execution_count": 1,
   "metadata": {},
   "outputs": [],
   "source": [
    "import pandas as pd\n",
    "import json\n",
    "\n",
    "with open(\"results.json\", \"r\") as f:\n",
    "    results = json.load(f)"
   ]
  },
  {
   "cell_type": "code",
   "execution_count": 2,
   "metadata": {},
   "outputs": [],
   "source": [
    "results.keys()\n",
    "\n",
    "\n",
    "def compare_odds(mine: float, theirs: float) -> float:\n",
    "    \"\"\"return in cent per euro invested\n",
    "\n",
    "    Args:\n",
    "        mine (float): _description_\n",
    "        theirs (float): _description_\n",
    "\n",
    "    Returns:\n",
    "        float: _description_\n",
    "    \"\"\"\n",
    "    our_perc = 1 / mine\n",
    "    expected_return = theirs*our_perc - 1\n",
    "    return expected_return*100\n",
    "\n",
    "groups = {\n",
    "    \"Germany\": \"A\",\n",
    "    \"Scotland\": \"A\",\n",
    "    \"Hungary\": \"A\",\n",
    "    \"Switzerland\": \"A\",\n",
    "    \"Spain\": \"B\",\n",
    "    \"Croatia\": \"B\",\n",
    "    \"Italy\": \"B\",\n",
    "    \"Albania\": \"B\",\n",
    "    \"Slovenia\": \"C\",\n",
    "    \"Denmark\": \"C\",\n",
    "    \"Serbia\": \"C\",\n",
    "    \"England\": \"C\",\n",
    "    \"Poland\": \"D\",\n",
    "    \"Netherlands\": \"D\",\n",
    "    \"Austria\": \"D\",\n",
    "    \"France\": \"D\",\n",
    "    \"Belgium\": \"E\",\n",
    "    \"Slovakia\": \"E\",\n",
    "    \"Romania\": \"E\",\n",
    "    \"Ukraine\": \"E\",\n",
    "    \"Turkey\": \"F\",\n",
    "    \"Georgia\": \"F\",\n",
    "    \"Portugal\": \"F\",\n",
    "    \"Czech Republic\": \"F\"\n",
    "}"
   ]
  },
  {
   "cell_type": "code",
   "execution_count": 17,
   "metadata": {},
   "outputs": [
    {
     "data": {
      "text/plain": [
       "108.3333333333333"
      ]
     },
     "execution_count": 17,
     "metadata": {},
     "output_type": "execute_result"
    }
   ],
   "source": [
    "compare_odds(12, 25)"
   ]
  },
  {
   "cell_type": "code",
   "execution_count": 36,
   "metadata": {},
   "outputs": [
    {
     "data": {
      "text/html": [
       "<div>\n",
       "<style scoped>\n",
       "    .dataframe tbody tr th:only-of-type {\n",
       "        vertical-align: middle;\n",
       "    }\n",
       "\n",
       "    .dataframe tbody tr th {\n",
       "        vertical-align: top;\n",
       "    }\n",
       "\n",
       "    .dataframe thead th {\n",
       "        text-align: right;\n",
       "    }\n",
       "</style>\n",
       "<table border=\"1\" class=\"dataframe\">\n",
       "  <thead>\n",
       "    <tr style=\"text-align: right;\">\n",
       "      <th></th>\n",
       "      <th>team1</th>\n",
       "      <th>team2</th>\n",
       "      <th>group</th>\n",
       "      <th>team1_goals</th>\n",
       "      <th>team2_goals</th>\n",
       "      <th>team1_market_value_distance</th>\n",
       "      <th>team2_market_value_distance</th>\n",
       "      <th>distance</th>\n",
       "    </tr>\n",
       "  </thead>\n",
       "  <tbody>\n",
       "    <tr>\n",
       "      <th>0</th>\n",
       "      <td>Italy</td>\n",
       "      <td>Turkey</td>\n",
       "      <td>A</td>\n",
       "      <td>3</td>\n",
       "      <td>0</td>\n",
       "      <td>0.385466</td>\n",
       "      <td>-0.385466</td>\n",
       "      <td>3</td>\n",
       "    </tr>\n",
       "    <tr>\n",
       "      <th>1</th>\n",
       "      <td>Switzerland</td>\n",
       "      <td>Wales</td>\n",
       "      <td>A</td>\n",
       "      <td>1</td>\n",
       "      <td>1</td>\n",
       "      <td>0.067042</td>\n",
       "      <td>-0.067042</td>\n",
       "      <td>0</td>\n",
       "    </tr>\n",
       "    <tr>\n",
       "      <th>2</th>\n",
       "      <td>Wales</td>\n",
       "      <td>Turkey</td>\n",
       "      <td>A</td>\n",
       "      <td>2</td>\n",
       "      <td>0</td>\n",
       "      <td>-0.077317</td>\n",
       "      <td>0.077317</td>\n",
       "      <td>2</td>\n",
       "    </tr>\n",
       "    <tr>\n",
       "      <th>3</th>\n",
       "      <td>Switzerland</td>\n",
       "      <td>Italy</td>\n",
       "      <td>A</td>\n",
       "      <td>0</td>\n",
       "      <td>3</td>\n",
       "      <td>-0.395741</td>\n",
       "      <td>0.395741</td>\n",
       "      <td>3</td>\n",
       "    </tr>\n",
       "    <tr>\n",
       "      <th>4</th>\n",
       "      <td>Turkey</td>\n",
       "      <td>Switzerland</td>\n",
       "      <td>A</td>\n",
       "      <td>1</td>\n",
       "      <td>3</td>\n",
       "      <td>0.010275</td>\n",
       "      <td>-0.010275</td>\n",
       "      <td>2</td>\n",
       "    </tr>\n",
       "    <tr>\n",
       "      <th>...</th>\n",
       "      <td>...</td>\n",
       "      <td>...</td>\n",
       "      <td>...</td>\n",
       "      <td>...</td>\n",
       "      <td>...</td>\n",
       "      <td>...</td>\n",
       "      <td>...</td>\n",
       "      <td>...</td>\n",
       "    </tr>\n",
       "    <tr>\n",
       "      <th>82</th>\n",
       "      <td>France</td>\n",
       "      <td>Germany</td>\n",
       "      <td>F</td>\n",
       "      <td>1</td>\n",
       "      <td>0</td>\n",
       "      <td>0.144970</td>\n",
       "      <td>-0.144970</td>\n",
       "      <td>1</td>\n",
       "    </tr>\n",
       "    <tr>\n",
       "      <th>83</th>\n",
       "      <td>Hungary</td>\n",
       "      <td>France</td>\n",
       "      <td>F</td>\n",
       "      <td>1</td>\n",
       "      <td>1</td>\n",
       "      <td>-0.956234</td>\n",
       "      <td>0.956234</td>\n",
       "      <td>0</td>\n",
       "    </tr>\n",
       "    <tr>\n",
       "      <th>84</th>\n",
       "      <td>Portugal</td>\n",
       "      <td>Germany</td>\n",
       "      <td>F</td>\n",
       "      <td>2</td>\n",
       "      <td>4</td>\n",
       "      <td>-0.138437</td>\n",
       "      <td>0.138437</td>\n",
       "      <td>2</td>\n",
       "    </tr>\n",
       "    <tr>\n",
       "      <th>85</th>\n",
       "      <td>Portugal</td>\n",
       "      <td>France</td>\n",
       "      <td>F</td>\n",
       "      <td>2</td>\n",
       "      <td>2</td>\n",
       "      <td>-0.283406</td>\n",
       "      <td>0.283406</td>\n",
       "      <td>0</td>\n",
       "    </tr>\n",
       "    <tr>\n",
       "      <th>86</th>\n",
       "      <td>Germany</td>\n",
       "      <td>Hungary</td>\n",
       "      <td>F</td>\n",
       "      <td>2</td>\n",
       "      <td>2</td>\n",
       "      <td>0.811264</td>\n",
       "      <td>-0.811264</td>\n",
       "      <td>0</td>\n",
       "    </tr>\n",
       "  </tbody>\n",
       "</table>\n",
       "<p>72 rows × 8 columns</p>\n",
       "</div>"
      ],
      "text/plain": [
       "          team1        team2 group  team1_goals  team2_goals  \\\n",
       "0         Italy       Turkey     A            3            0   \n",
       "1   Switzerland        Wales     A            1            1   \n",
       "2         Wales       Turkey     A            2            0   \n",
       "3   Switzerland        Italy     A            0            3   \n",
       "4        Turkey  Switzerland     A            1            3   \n",
       "..          ...          ...   ...          ...          ...   \n",
       "82       France      Germany     F            1            0   \n",
       "83      Hungary       France     F            1            1   \n",
       "84     Portugal      Germany     F            2            4   \n",
       "85     Portugal       France     F            2            2   \n",
       "86      Germany      Hungary     F            2            2   \n",
       "\n",
       "    team1_market_value_distance  team2_market_value_distance  distance  \n",
       "0                      0.385466                    -0.385466         3  \n",
       "1                      0.067042                    -0.067042         0  \n",
       "2                     -0.077317                     0.077317         2  \n",
       "3                     -0.395741                     0.395741         3  \n",
       "4                      0.010275                    -0.010275         2  \n",
       "..                          ...                          ...       ...  \n",
       "82                     0.144970                    -0.144970         1  \n",
       "83                    -0.956234                     0.956234         0  \n",
       "84                    -0.138437                     0.138437         2  \n",
       "85                    -0.283406                     0.283406         0  \n",
       "86                     0.811264                    -0.811264         0  \n",
       "\n",
       "[72 rows x 8 columns]"
      ]
     },
     "execution_count": 36,
     "metadata": {},
     "output_type": "execute_result"
    }
   ],
   "source": [
    "group_games"
   ]
  },
  {
   "cell_type": "code",
   "execution_count": 30,
   "metadata": {},
   "outputs": [],
   "source": [
    "group_games[\"distance\"] = (group_games[\"team1_goals\"] - group_games[\"team2_goals\"]).abs()"
   ]
  },
  {
   "cell_type": "code",
   "execution_count": 35,
   "metadata": {},
   "outputs": [
    {
     "data": {
      "text/plain": [
       "1-1    0.111111\n",
       "0-1    0.111111\n",
       "1-0    0.111111\n",
       "3-0    0.069444\n",
       "0-3    0.069444\n",
       "2-0    0.055556\n",
       "2-2    0.055556\n",
       "0-0    0.055556\n",
       "0-2    0.055556\n",
       "3-1    0.041667\n",
       "1-2    0.041667\n",
       "2-1    0.041667\n",
       "1-3    0.041667\n",
       "2-3    0.027778\n",
       "3-2    0.027778\n",
       "4-1    0.013889\n",
       "5-0    0.013889\n",
       "4-2    0.013889\n",
       "1-4    0.013889\n",
       "0-5    0.013889\n",
       "2-4    0.013889\n",
       "Name: proportion, dtype: float64"
      ]
     },
     "execution_count": 35,
     "metadata": {},
     "output_type": "execute_result"
    }
   ],
   "source": [
    "(group_games[\"team1_goals\"].astype(str)+ \"-\" + group_games[\"team2_goals\"].astype(str)).value_counts(normalize=True)"
   ]
  },
  {
   "cell_type": "code",
   "execution_count": 27,
   "metadata": {},
   "outputs": [
    {
     "data": {
      "text/plain": [
       "0.8065275228171078"
      ]
     },
     "execution_count": 27,
     "metadata": {},
     "output_type": "execute_result"
    }
   ],
   "source": [
    "team_1_elo = 1981\n",
    "team_2_elo = 1733\n",
    "\n",
    "team_1_win_perc = 1 / (1 + 10**((team_2_elo - team_1_elo) / 400))\n",
    "team_1_win_perc\n"
   ]
  },
  {
   "cell_type": "markdown",
   "metadata": {},
   "source": [
    "gruppe des gesamtsiegers: C (unsere odds: 2.9, tipico: 3.8)\n",
    "most_goals: England 3.796133"
   ]
  },
  {
   "cell_type": "code",
   "execution_count": 4,
   "metadata": {},
   "outputs": [
    {
     "name": "stdout",
     "output_type": "stream",
     "text": [
      "[('England', 'Serbia'), ('England', 'Slovenia'), ('England', 'Denmark'), ('Serbia', 'Slovenia'), ('Serbia', 'Denmark'), ('Slovenia', 'Denmark')]\n",
      "('England', 'Serbia') 161475 3.096454559529339\n",
      "('England', 'Slovenia') 112859 4.43030684305195\n",
      "('England', 'Denmark') 201681 2.47916263802738\n",
      "('Serbia', 'Slovenia') 5295 94.42870632672332\n",
      "('Serbia', 'Denmark') 11647 42.92950974499871\n",
      "('Slovenia', 'Denmark') 7043 70.99247479767145\n"
     ]
    }
   ],
   "source": [
    "import itertools\n",
    "def get_occurences_of_top_two_teams(group: str):\n",
    "    group_placements = pd.Series(results[\"group_placements\"][group]).reset_index()\n",
    "    \n",
    "    group_placements[[\"first\", \"second\", \"third\", \"fourth\"]] = group_placements[\"index\"].str.split(\"|\", expand=True)\n",
    "    teams = group_placements[\"first\"].unique()\n",
    "    combinations = list(itertools.combinations(teams, 2))\n",
    "    print(combinations)\n",
    "    for teams in combinations:\n",
    "        occurrences = group_placements.loc[(\n",
    "            (group_placements[\"first\"].isin(teams)) & (group_placements[\"second\"].isin(teams))\n",
    "        )][0].sum()\n",
    "        print(teams, occurrences, 1 / (occurrences / 500_000))\n",
    "\n",
    "get_occurences_of_top_two_teams(\"C\")"
   ]
  },
  {
   "cell_type": "code",
   "execution_count": 27,
   "metadata": {},
   "outputs": [
    {
     "data": {
      "text/plain": [
       "129.76800000000003"
      ]
     },
     "execution_count": 27,
     "metadata": {},
     "output_type": "execute_result"
    }
   ],
   "source": [
    "compare_odds(17.408864593851188, 40)"
   ]
  },
  {
   "cell_type": "markdown",
   "metadata": {},
   "source": [
    "<!-- Scotland Germany 40839 12.243198903009379 -->\n",
    "Hungary Germany 35811 13.962190388428136\n",
    "gruppe des gesamtsiegers: C (unsere odds: 2.9, tipico: 3.8)\n",
    "('Switzerland', 'Hungary') 33268 15.029457737164844\n",
    "('Scotland', 'Switzerland') 37214 13.435803729779117\n",
    "('Scotland', 'Hungary') 28721 17.408864593851188\n",
    "\n"
   ]
  },
  {
   "cell_type": "code",
   "execution_count": 24,
   "metadata": {},
   "outputs": [
    {
     "data": {
      "text/plain": [
       "9.67098703888336"
      ]
     },
     "execution_count": 24,
     "metadata": {},
     "output_type": "execute_result"
    }
   ],
   "source": [
    "compare_odds(10.03, 11)"
   ]
  },
  {
   "cell_type": "code",
   "execution_count": 21,
   "metadata": {},
   "outputs": [
    {
     "name": "stdout",
     "output_type": "stream",
     "text": [
      "Switzerland Germany 49826 10.034921526913658\n"
     ]
    }
   ],
   "source": [
    "import itertools\n",
    "def get_occurences_of_top_two_teams(group: str):\n",
    "    group_placements = pd.Series(results[\"group_placements\"][group]).reset_index()\n",
    "    \n",
    "    group_placements[[\"first\", \"second\", \"third\", \"fourth\"]] = group_placements[\"index\"].str.split(\"|\", expand=True)\n",
    "    first = \"Switzerland\"\n",
    "    second = \"Germany\"\n",
    "    occurrences = group_placements.loc[(\n",
    "        (group_placements[\"first\"] == first) & (group_placements[\"second\"] == second)\n",
    "    )][0].sum()\n",
    "    print(first, second, occurrences, 1 / (occurrences / 500_000))\n",
    "\n",
    "get_occurences_of_top_two_teams(\"A\")"
   ]
  },
  {
   "cell_type": "code",
   "execution_count": 51,
   "metadata": {},
   "outputs": [],
   "source": [
    "teams = group_placements[\"first\"].unique()\n"
   ]
  },
  {
   "cell_type": "code",
   "execution_count": 11,
   "metadata": {},
   "outputs": [
    {
     "data": {
      "text/plain": [
       "{'Germany|Switzerland|Scotland|Hungary': 52020,\n",
       " 'Scotland|Germany|Switzerland|Hungary': 21607,\n",
       " 'Germany|Hungary|Switzerland|Scotland': 43422,\n",
       " 'Germany|Scotland|Switzerland|Hungary': 48060,\n",
       " 'Switzerland|Hungary|Germany|Scotland': 11519,\n",
       " 'Germany|Switzerland|Hungary|Scotland': 48546,\n",
       " 'Scotland|Germany|Hungary|Switzerland': 19232,\n",
       " 'Scotland|Switzerland|Germany|Hungary': 12270,\n",
       " 'Switzerland|Germany|Hungary|Scotland': 24284,\n",
       " 'Hungary|Scotland|Germany|Switzerland': 8912,\n",
       " 'Germany|Scotland|Hungary|Switzerland': 42141,\n",
       " 'Switzerland|Germany|Scotland|Hungary': 25542,\n",
       " 'Germany|Hungary|Scotland|Switzerland': 40132,\n",
       " 'Scotland|Hungary|Switzerland|Germany': 5445,\n",
       " 'Hungary|Switzerland|Germany|Scotland': 10556,\n",
       " 'Switzerland|Scotland|Hungary|Germany': 6438,\n",
       " 'Hungary|Switzerland|Scotland|Germany': 5320,\n",
       " 'Hungary|Germany|Scotland|Switzerland': 17022,\n",
       " 'Switzerland|Scotland|Germany|Hungary': 12725,\n",
       " 'Scotland|Switzerland|Hungary|Germany': 5781,\n",
       " 'Switzerland|Hungary|Scotland|Germany': 5873,\n",
       " 'Hungary|Germany|Switzerland|Scotland': 18789,\n",
       " 'Scotland|Hungary|Germany|Switzerland': 9384,\n",
       " 'Hungary|Scotland|Switzerland|Germany': 4980}"
      ]
     },
     "execution_count": 11,
     "metadata": {},
     "output_type": "execute_result"
    }
   ],
   "source": [
    "results[\"group_placements\"][\"A\"]"
   ]
  },
  {
   "cell_type": "code",
   "execution_count": null,
   "metadata": {},
   "outputs": [],
   "source": [
    "''"
   ]
  }
 ],
 "metadata": {
  "kernelspec": {
   "display_name": "euro",
   "language": "python",
   "name": "python3"
  },
  "language_info": {
   "codemirror_mode": {
    "name": "ipython",
    "version": 3
   },
   "file_extension": ".py",
   "mimetype": "text/x-python",
   "name": "python",
   "nbconvert_exporter": "python",
   "pygments_lexer": "ipython3",
   "version": "3.12.3"
  }
 },
 "nbformat": 4,
 "nbformat_minor": 2
}
