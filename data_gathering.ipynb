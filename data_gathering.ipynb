{
 "cells": [
  {
   "cell_type": "code",
   "execution_count": 1,
   "metadata": {},
   "outputs": [],
   "source": [
    "from src.simulation.group_phase import simulate_group_phase\n",
    "from src.simulation.bracket import get_knockout_games\n",
    "from src.model import GoalSampler\n",
    "import pandas as pd\n",
    "from collections import defaultdict\n",
    "from tqdm import tqdm\n",
    "\n",
    "groups = [\"A\", \"B\", \"C\", \"D\", \"E\", \"F\"]\n",
    "group_games = pd.read_csv(r\"data\\cleaned\\2024_games.csv\", sep=\";\")\n",
    "group_games = group_games[group_games[\"group\"].notna()]\n",
    "market_values = pd.read_csv(r\"data\\cleaned\\2024_market_values.csv\", sep=\";\", index_col=\"Country\")[\"MarketValue\"]\n",
    "goal_sampler = GoalSampler()\n",
    "stages = [\"Round of 16\", \"Quarterfinals\", \"Semifinals\", \"Final\"]\n",
    "results = {stage: defaultdict(int) for stage in stages}\n",
    "results[\"Winner\"] = defaultdict(int)\n",
    "results[\"Finalists\"] = defaultdict(int)\n",
    "results[\"group_placements\"] = {group: defaultdict(int) for group in groups}\n",
    "# TODO: Add most goals scored by a team\n",
    "results[\"most_goals\"] = defaultdict(int)\n",
    "\n",
    "def simulate_tournament(group_games: pd.DataFrame, market_values: pd.Series) -> str:\n",
    "    global results\n",
    "    group_results = simulate_group_phase(group_games)\n",
    "\n",
    "    goals = {team: goals for team, goals in zip(group_results.group_results.index.get_level_values(1), group_results.group_results[\"goals\"])}\n",
    "    for group in groups:\n",
    "        placements = group_results.group_results.loc[group].index.tolist()\n",
    "        results[\"group_placements\"][group][\"|\".join(placements)] += 1\n",
    "        \n",
    "    next_games = get_knockout_games(group_results)\n",
    "\n",
    "    for stage in stages:\n",
    "        for team1, team2 in next_games:\n",
    "            results[stage][team1] += 1\n",
    "            results[stage][team2] += 1\n",
    "\n",
    "\n",
    "        round_winners = []\n",
    "        for team1, team2 in next_games:\n",
    "            winner, goals_team1, goals_team2 = goal_sampler.get_knockout_stage_winner(team1, team2, market_values[team1], market_values[team2])\n",
    "            goals[team1] += goals_team1\n",
    "            goals[team2] += goals_team2\n",
    "            round_winners.append(winner)\n",
    "        if len(round_winners) == 1:\n",
    "            results[\"Winner\"][round_winners[0]] += 1\n",
    "            finalists = \"-\".join(sorted(next_games[0]))\n",
    "            results[\"Finalists\"][finalists] += 1\n",
    "            results[\"most_goals\"][max(goals, key=goals.get)] += 1\n",
    "            return\n",
    "        next_games = [round_winners[i:i+2] for i in range(0, len(round_winners), 2)]"
   ]
  },
  {
   "cell_type": "code",
   "execution_count": 2,
   "metadata": {},
   "outputs": [
    {
     "name": "stderr",
     "output_type": "stream",
     "text": [
      "100%|██████████| 500000/500000 [4:22:19<00:00, 30.81it/s]  "
     ]
    }
   ],
   "source": [
    "n_runs = 500_000\n",
    "pbar = tqdm(total=n_runs)\n",
    "\n",
    "for simulation_run in range(n_runs):\n",
    "    simulate_tournament(group_games, market_values)\n",
    "    pbar.update(1)"
   ]
  },
  {
   "cell_type": "code",
   "execution_count": 4,
   "metadata": {},
   "outputs": [],
   "source": [
    "import json\n",
    "\n",
    "with open(\"results.json\", \"w\") as f:\n",
    "    json.dump(results, f)"
   ]
  },
  {
   "cell_type": "code",
   "execution_count": 15,
   "metadata": {},
   "outputs": [
    {
     "data": {
      "text/plain": [
       "{'A': defaultdict(int,\n",
       "             {'Germany|Switzerland|Scotland|Hungary': 52020,\n",
       "              'Scotland|Germany|Switzerland|Hungary': 21607,\n",
       "              'Germany|Hungary|Switzerland|Scotland': 43422,\n",
       "              'Germany|Scotland|Switzerland|Hungary': 48060,\n",
       "              'Switzerland|Hungary|Germany|Scotland': 11519,\n",
       "              'Germany|Switzerland|Hungary|Scotland': 48546,\n",
       "              'Scotland|Germany|Hungary|Switzerland': 19232,\n",
       "              'Scotland|Switzerland|Germany|Hungary': 12270,\n",
       "              'Switzerland|Germany|Hungary|Scotland': 24284,\n",
       "              'Hungary|Scotland|Germany|Switzerland': 8912,\n",
       "              'Germany|Scotland|Hungary|Switzerland': 42141,\n",
       "              'Switzerland|Germany|Scotland|Hungary': 25542,\n",
       "              'Germany|Hungary|Scotland|Switzerland': 40132,\n",
       "              'Scotland|Hungary|Switzerland|Germany': 5445,\n",
       "              'Hungary|Switzerland|Germany|Scotland': 10556,\n",
       "              'Switzerland|Scotland|Hungary|Germany': 6438,\n",
       "              'Hungary|Switzerland|Scotland|Germany': 5320,\n",
       "              'Hungary|Germany|Scotland|Switzerland': 17022,\n",
       "              'Switzerland|Scotland|Germany|Hungary': 12725,\n",
       "              'Scotland|Switzerland|Hungary|Germany': 5781,\n",
       "              'Switzerland|Hungary|Scotland|Germany': 5873,\n",
       "              'Hungary|Germany|Switzerland|Scotland': 18789,\n",
       "              'Scotland|Hungary|Germany|Switzerland': 9384,\n",
       "              'Hungary|Scotland|Switzerland|Germany': 4980}),\n",
       " 'B': defaultdict(int,\n",
       "             {'Germany|Switzerland|Scotland|Hungary': 52020,\n",
       "              'Scotland|Germany|Switzerland|Hungary': 21607,\n",
       "              'Germany|Hungary|Switzerland|Scotland': 43422,\n",
       "              'Germany|Scotland|Switzerland|Hungary': 48060,\n",
       "              'Switzerland|Hungary|Germany|Scotland': 11519,\n",
       "              'Germany|Switzerland|Hungary|Scotland': 48546,\n",
       "              'Scotland|Germany|Hungary|Switzerland': 19232,\n",
       "              'Scotland|Switzerland|Germany|Hungary': 12270,\n",
       "              'Switzerland|Germany|Hungary|Scotland': 24284,\n",
       "              'Hungary|Scotland|Germany|Switzerland': 8912,\n",
       "              'Germany|Scotland|Hungary|Switzerland': 42141,\n",
       "              'Switzerland|Germany|Scotland|Hungary': 25542,\n",
       "              'Germany|Hungary|Scotland|Switzerland': 40132,\n",
       "              'Scotland|Hungary|Switzerland|Germany': 5445,\n",
       "              'Hungary|Switzerland|Germany|Scotland': 10556,\n",
       "              'Switzerland|Scotland|Hungary|Germany': 6438,\n",
       "              'Hungary|Switzerland|Scotland|Germany': 5320,\n",
       "              'Hungary|Germany|Scotland|Switzerland': 17022,\n",
       "              'Switzerland|Scotland|Germany|Hungary': 12725,\n",
       "              'Scotland|Switzerland|Hungary|Germany': 5781,\n",
       "              'Switzerland|Hungary|Scotland|Germany': 5873,\n",
       "              'Hungary|Germany|Switzerland|Scotland': 18789,\n",
       "              'Scotland|Hungary|Germany|Switzerland': 9384,\n",
       "              'Hungary|Scotland|Switzerland|Germany': 4980}),\n",
       " 'C': defaultdict(int,\n",
       "             {'Germany|Switzerland|Scotland|Hungary': 52020,\n",
       "              'Scotland|Germany|Switzerland|Hungary': 21607,\n",
       "              'Germany|Hungary|Switzerland|Scotland': 43422,\n",
       "              'Germany|Scotland|Switzerland|Hungary': 48060,\n",
       "              'Switzerland|Hungary|Germany|Scotland': 11519,\n",
       "              'Germany|Switzerland|Hungary|Scotland': 48546,\n",
       "              'Scotland|Germany|Hungary|Switzerland': 19232,\n",
       "              'Scotland|Switzerland|Germany|Hungary': 12270,\n",
       "              'Switzerland|Germany|Hungary|Scotland': 24284,\n",
       "              'Hungary|Scotland|Germany|Switzerland': 8912,\n",
       "              'Germany|Scotland|Hungary|Switzerland': 42141,\n",
       "              'Switzerland|Germany|Scotland|Hungary': 25542,\n",
       "              'Germany|Hungary|Scotland|Switzerland': 40132,\n",
       "              'Scotland|Hungary|Switzerland|Germany': 5445,\n",
       "              'Hungary|Switzerland|Germany|Scotland': 10556,\n",
       "              'Switzerland|Scotland|Hungary|Germany': 6438,\n",
       "              'Hungary|Switzerland|Scotland|Germany': 5320,\n",
       "              'Hungary|Germany|Scotland|Switzerland': 17022,\n",
       "              'Switzerland|Scotland|Germany|Hungary': 12725,\n",
       "              'Scotland|Switzerland|Hungary|Germany': 5781,\n",
       "              'Switzerland|Hungary|Scotland|Germany': 5873,\n",
       "              'Hungary|Germany|Switzerland|Scotland': 18789,\n",
       "              'Scotland|Hungary|Germany|Switzerland': 9384,\n",
       "              'Hungary|Scotland|Switzerland|Germany': 4980}),\n",
       " 'D': defaultdict(int,\n",
       "             {'Germany|Switzerland|Scotland|Hungary': 52020,\n",
       "              'Scotland|Germany|Switzerland|Hungary': 21607,\n",
       "              'Germany|Hungary|Switzerland|Scotland': 43422,\n",
       "              'Germany|Scotland|Switzerland|Hungary': 48060,\n",
       "              'Switzerland|Hungary|Germany|Scotland': 11519,\n",
       "              'Germany|Switzerland|Hungary|Scotland': 48546,\n",
       "              'Scotland|Germany|Hungary|Switzerland': 19232,\n",
       "              'Scotland|Switzerland|Germany|Hungary': 12270,\n",
       "              'Switzerland|Germany|Hungary|Scotland': 24284,\n",
       "              'Hungary|Scotland|Germany|Switzerland': 8912,\n",
       "              'Germany|Scotland|Hungary|Switzerland': 42141,\n",
       "              'Switzerland|Germany|Scotland|Hungary': 25542,\n",
       "              'Germany|Hungary|Scotland|Switzerland': 40132,\n",
       "              'Scotland|Hungary|Switzerland|Germany': 5445,\n",
       "              'Hungary|Switzerland|Germany|Scotland': 10556,\n",
       "              'Switzerland|Scotland|Hungary|Germany': 6438,\n",
       "              'Hungary|Switzerland|Scotland|Germany': 5320,\n",
       "              'Hungary|Germany|Scotland|Switzerland': 17022,\n",
       "              'Switzerland|Scotland|Germany|Hungary': 12725,\n",
       "              'Scotland|Switzerland|Hungary|Germany': 5781,\n",
       "              'Switzerland|Hungary|Scotland|Germany': 5873,\n",
       "              'Hungary|Germany|Switzerland|Scotland': 18789,\n",
       "              'Scotland|Hungary|Germany|Switzerland': 9384,\n",
       "              'Hungary|Scotland|Switzerland|Germany': 4980}),\n",
       " 'E': defaultdict(int,\n",
       "             {'Germany|Switzerland|Scotland|Hungary': 52020,\n",
       "              'Scotland|Germany|Switzerland|Hungary': 21607,\n",
       "              'Germany|Hungary|Switzerland|Scotland': 43422,\n",
       "              'Germany|Scotland|Switzerland|Hungary': 48060,\n",
       "              'Switzerland|Hungary|Germany|Scotland': 11519,\n",
       "              'Germany|Switzerland|Hungary|Scotland': 48546,\n",
       "              'Scotland|Germany|Hungary|Switzerland': 19232,\n",
       "              'Scotland|Switzerland|Germany|Hungary': 12270,\n",
       "              'Switzerland|Germany|Hungary|Scotland': 24284,\n",
       "              'Hungary|Scotland|Germany|Switzerland': 8912,\n",
       "              'Germany|Scotland|Hungary|Switzerland': 42141,\n",
       "              'Switzerland|Germany|Scotland|Hungary': 25542,\n",
       "              'Germany|Hungary|Scotland|Switzerland': 40132,\n",
       "              'Scotland|Hungary|Switzerland|Germany': 5445,\n",
       "              'Hungary|Switzerland|Germany|Scotland': 10556,\n",
       "              'Switzerland|Scotland|Hungary|Germany': 6438,\n",
       "              'Hungary|Switzerland|Scotland|Germany': 5320,\n",
       "              'Hungary|Germany|Scotland|Switzerland': 17022,\n",
       "              'Switzerland|Scotland|Germany|Hungary': 12725,\n",
       "              'Scotland|Switzerland|Hungary|Germany': 5781,\n",
       "              'Switzerland|Hungary|Scotland|Germany': 5873,\n",
       "              'Hungary|Germany|Switzerland|Scotland': 18789,\n",
       "              'Scotland|Hungary|Germany|Switzerland': 9384,\n",
       "              'Hungary|Scotland|Switzerland|Germany': 4980}),\n",
       " 'F': defaultdict(int,\n",
       "             {'Germany|Switzerland|Scotland|Hungary': 52020,\n",
       "              'Scotland|Germany|Switzerland|Hungary': 21607,\n",
       "              'Germany|Hungary|Switzerland|Scotland': 43422,\n",
       "              'Germany|Scotland|Switzerland|Hungary': 48060,\n",
       "              'Switzerland|Hungary|Germany|Scotland': 11519,\n",
       "              'Germany|Switzerland|Hungary|Scotland': 48546,\n",
       "              'Scotland|Germany|Hungary|Switzerland': 19232,\n",
       "              'Scotland|Switzerland|Germany|Hungary': 12270,\n",
       "              'Switzerland|Germany|Hungary|Scotland': 24284,\n",
       "              'Hungary|Scotland|Germany|Switzerland': 8912,\n",
       "              'Germany|Scotland|Hungary|Switzerland': 42141,\n",
       "              'Switzerland|Germany|Scotland|Hungary': 25542,\n",
       "              'Germany|Hungary|Scotland|Switzerland': 40132,\n",
       "              'Scotland|Hungary|Switzerland|Germany': 5445,\n",
       "              'Hungary|Switzerland|Germany|Scotland': 10556,\n",
       "              'Switzerland|Scotland|Hungary|Germany': 6438,\n",
       "              'Hungary|Switzerland|Scotland|Germany': 5320,\n",
       "              'Hungary|Germany|Scotland|Switzerland': 17022,\n",
       "              'Switzerland|Scotland|Germany|Hungary': 12725,\n",
       "              'Scotland|Switzerland|Hungary|Germany': 5781,\n",
       "              'Switzerland|Hungary|Scotland|Germany': 5873,\n",
       "              'Hungary|Germany|Switzerland|Scotland': 18789,\n",
       "              'Scotland|Hungary|Germany|Switzerland': 9384,\n",
       "              'Hungary|Scotland|Switzerland|Germany': 4980})}"
      ]
     },
     "execution_count": 15,
     "metadata": {},
     "output_type": "execute_result"
    }
   ],
   "source": []
  },
  {
   "cell_type": "code",
   "execution_count": 23,
   "metadata": {},
   "outputs": [
    {
     "ename": "TypeError",
     "evalue": "unsupported operand type(s) for /: 'collections.defaultdict' and 'int'",
     "output_type": "error",
     "traceback": [
      "\u001b[1;31m---------------------------------------------------------------------------\u001b[0m",
      "\u001b[1;31mTypeError\u001b[0m                                 Traceback (most recent call last)",
      "File \u001b[1;32me:\\Users\\johnn\\anaconda3\\envs\\euro\\Lib\\site-packages\\pandas\\core\\ops\\array_ops.py:218\u001b[0m, in \u001b[0;36m_na_arithmetic_op\u001b[1;34m(left, right, op, is_cmp)\u001b[0m\n\u001b[0;32m    217\u001b[0m \u001b[38;5;28;01mtry\u001b[39;00m:\n\u001b[1;32m--> 218\u001b[0m     result \u001b[38;5;241m=\u001b[39m \u001b[43mfunc\u001b[49m\u001b[43m(\u001b[49m\u001b[43mleft\u001b[49m\u001b[43m,\u001b[49m\u001b[43m \u001b[49m\u001b[43mright\u001b[49m\u001b[43m)\u001b[49m\n\u001b[0;32m    219\u001b[0m \u001b[38;5;28;01mexcept\u001b[39;00m \u001b[38;5;167;01mTypeError\u001b[39;00m:\n",
      "File \u001b[1;32me:\\Users\\johnn\\anaconda3\\envs\\euro\\Lib\\site-packages\\pandas\\core\\computation\\expressions.py:242\u001b[0m, in \u001b[0;36mevaluate\u001b[1;34m(op, a, b, use_numexpr)\u001b[0m\n\u001b[0;32m    240\u001b[0m     \u001b[38;5;28;01mif\u001b[39;00m use_numexpr:\n\u001b[0;32m    241\u001b[0m         \u001b[38;5;66;03m# error: \"None\" not callable\u001b[39;00m\n\u001b[1;32m--> 242\u001b[0m         \u001b[38;5;28;01mreturn\u001b[39;00m \u001b[43m_evaluate\u001b[49m\u001b[43m(\u001b[49m\u001b[43mop\u001b[49m\u001b[43m,\u001b[49m\u001b[43m \u001b[49m\u001b[43mop_str\u001b[49m\u001b[43m,\u001b[49m\u001b[43m \u001b[49m\u001b[43ma\u001b[49m\u001b[43m,\u001b[49m\u001b[43m \u001b[49m\u001b[43mb\u001b[49m\u001b[43m)\u001b[49m  \u001b[38;5;66;03m# type: ignore[misc]\u001b[39;00m\n\u001b[0;32m    243\u001b[0m \u001b[38;5;28;01mreturn\u001b[39;00m _evaluate_standard(op, op_str, a, b)\n",
      "File \u001b[1;32me:\\Users\\johnn\\anaconda3\\envs\\euro\\Lib\\site-packages\\pandas\\core\\computation\\expressions.py:73\u001b[0m, in \u001b[0;36m_evaluate_standard\u001b[1;34m(op, op_str, a, b)\u001b[0m\n\u001b[0;32m     72\u001b[0m     _store_test_result(\u001b[38;5;28;01mFalse\u001b[39;00m)\n\u001b[1;32m---> 73\u001b[0m \u001b[38;5;28;01mreturn\u001b[39;00m \u001b[43mop\u001b[49m\u001b[43m(\u001b[49m\u001b[43ma\u001b[49m\u001b[43m,\u001b[49m\u001b[43m \u001b[49m\u001b[43mb\u001b[49m\u001b[43m)\u001b[49m\n",
      "\u001b[1;31mTypeError\u001b[0m: unsupported operand type(s) for /: 'collections.defaultdict' and 'int'",
      "\nDuring handling of the above exception, another exception occurred:\n",
      "\u001b[1;31mTypeError\u001b[0m                                 Traceback (most recent call last)",
      "Cell \u001b[1;32mIn[23], line 14\u001b[0m\n\u001b[0;32m      6\u001b[0m     \u001b[38;5;28;01mreturn\u001b[39;00m \u001b[38;5;241m1\u001b[39m \u001b[38;5;241m/\u001b[39m percentage\n\u001b[0;32m      8\u001b[0m \u001b[38;5;28;01mfor\u001b[39;00m bet_type \u001b[38;5;129;01min\u001b[39;00m results:\n\u001b[0;32m      9\u001b[0m     \u001b[38;5;66;03m# if bet_type == \"group_placements\":\u001b[39;00m\n\u001b[0;32m     10\u001b[0m     \u001b[38;5;66;03m#     for group_name, group_placements in results[bet_type].items():\u001b[39;00m\n\u001b[0;32m     11\u001b[0m     \u001b[38;5;66;03m#         odds = get_odds(group)\u001b[39;00m\n\u001b[0;32m     12\u001b[0m     \u001b[38;5;66;03m#         odds.sort_values().to_excel(f\"out/{group}.xlsx\")\u001b[39;00m\n\u001b[0;32m     13\u001b[0m     \u001b[38;5;66;03m# else:\u001b[39;00m\n\u001b[1;32m---> 14\u001b[0m         odds \u001b[38;5;241m=\u001b[39m \u001b[43mget_odds\u001b[49m\u001b[43m(\u001b[49m\u001b[43mbet_type\u001b[49m\u001b[43m)\u001b[49m\n\u001b[0;32m     15\u001b[0m         odds\u001b[38;5;241m.\u001b[39msort_values()\u001b[38;5;241m.\u001b[39mto_excel(\u001b[38;5;124mf\u001b[39m\u001b[38;5;124m\"\u001b[39m\u001b[38;5;124mout/\u001b[39m\u001b[38;5;132;01m{\u001b[39;00mbet_type\u001b[38;5;132;01m}\u001b[39;00m\u001b[38;5;124m.xlsx\u001b[39m\u001b[38;5;124m\"\u001b[39m)\n",
      "Cell \u001b[1;32mIn[23], line 5\u001b[0m, in \u001b[0;36mget_odds\u001b[1;34m(key)\u001b[0m\n\u001b[0;32m      3\u001b[0m \u001b[38;5;28;01mdef\u001b[39;00m \u001b[38;5;21mget_odds\u001b[39m(key: \u001b[38;5;28mstr\u001b[39m) \u001b[38;5;241m-\u001b[39m\u001b[38;5;241m>\u001b[39m pd\u001b[38;5;241m.\u001b[39mSeries:\n\u001b[0;32m      4\u001b[0m     as_series \u001b[38;5;241m=\u001b[39m pd\u001b[38;5;241m.\u001b[39mSeries(results[key])\n\u001b[1;32m----> 5\u001b[0m     percentage \u001b[38;5;241m=\u001b[39m \u001b[43mas_series\u001b[49m\u001b[43m \u001b[49m\u001b[38;5;241;43m/\u001b[39;49m\u001b[43m \u001b[49m\u001b[43mn_runs\u001b[49m\n\u001b[0;32m      6\u001b[0m     \u001b[38;5;28;01mreturn\u001b[39;00m \u001b[38;5;241m1\u001b[39m \u001b[38;5;241m/\u001b[39m percentage\n",
      "File \u001b[1;32me:\\Users\\johnn\\anaconda3\\envs\\euro\\Lib\\site-packages\\pandas\\core\\ops\\common.py:76\u001b[0m, in \u001b[0;36m_unpack_zerodim_and_defer.<locals>.new_method\u001b[1;34m(self, other)\u001b[0m\n\u001b[0;32m     72\u001b[0m             \u001b[38;5;28;01mreturn\u001b[39;00m \u001b[38;5;28mNotImplemented\u001b[39m\n\u001b[0;32m     74\u001b[0m other \u001b[38;5;241m=\u001b[39m item_from_zerodim(other)\n\u001b[1;32m---> 76\u001b[0m \u001b[38;5;28;01mreturn\u001b[39;00m \u001b[43mmethod\u001b[49m\u001b[43m(\u001b[49m\u001b[38;5;28;43mself\u001b[39;49m\u001b[43m,\u001b[49m\u001b[43m \u001b[49m\u001b[43mother\u001b[49m\u001b[43m)\u001b[49m\n",
      "File \u001b[1;32me:\\Users\\johnn\\anaconda3\\envs\\euro\\Lib\\site-packages\\pandas\\core\\arraylike.py:210\u001b[0m, in \u001b[0;36mOpsMixin.__truediv__\u001b[1;34m(self, other)\u001b[0m\n\u001b[0;32m    208\u001b[0m \u001b[38;5;129m@unpack_zerodim_and_defer\u001b[39m(\u001b[38;5;124m\"\u001b[39m\u001b[38;5;124m__truediv__\u001b[39m\u001b[38;5;124m\"\u001b[39m)\n\u001b[0;32m    209\u001b[0m \u001b[38;5;28;01mdef\u001b[39;00m \u001b[38;5;21m__truediv__\u001b[39m(\u001b[38;5;28mself\u001b[39m, other):\n\u001b[1;32m--> 210\u001b[0m     \u001b[38;5;28;01mreturn\u001b[39;00m \u001b[38;5;28;43mself\u001b[39;49m\u001b[38;5;241;43m.\u001b[39;49m\u001b[43m_arith_method\u001b[49m\u001b[43m(\u001b[49m\u001b[43mother\u001b[49m\u001b[43m,\u001b[49m\u001b[43m \u001b[49m\u001b[43moperator\u001b[49m\u001b[38;5;241;43m.\u001b[39;49m\u001b[43mtruediv\u001b[49m\u001b[43m)\u001b[49m\n",
      "File \u001b[1;32me:\\Users\\johnn\\anaconda3\\envs\\euro\\Lib\\site-packages\\pandas\\core\\series.py:6135\u001b[0m, in \u001b[0;36mSeries._arith_method\u001b[1;34m(self, other, op)\u001b[0m\n\u001b[0;32m   6133\u001b[0m \u001b[38;5;28;01mdef\u001b[39;00m \u001b[38;5;21m_arith_method\u001b[39m(\u001b[38;5;28mself\u001b[39m, other, op):\n\u001b[0;32m   6134\u001b[0m     \u001b[38;5;28mself\u001b[39m, other \u001b[38;5;241m=\u001b[39m \u001b[38;5;28mself\u001b[39m\u001b[38;5;241m.\u001b[39m_align_for_op(other)\n\u001b[1;32m-> 6135\u001b[0m     \u001b[38;5;28;01mreturn\u001b[39;00m \u001b[43mbase\u001b[49m\u001b[38;5;241;43m.\u001b[39;49m\u001b[43mIndexOpsMixin\u001b[49m\u001b[38;5;241;43m.\u001b[39;49m\u001b[43m_arith_method\u001b[49m\u001b[43m(\u001b[49m\u001b[38;5;28;43mself\u001b[39;49m\u001b[43m,\u001b[49m\u001b[43m \u001b[49m\u001b[43mother\u001b[49m\u001b[43m,\u001b[49m\u001b[43m \u001b[49m\u001b[43mop\u001b[49m\u001b[43m)\u001b[49m\n",
      "File \u001b[1;32me:\\Users\\johnn\\anaconda3\\envs\\euro\\Lib\\site-packages\\pandas\\core\\base.py:1382\u001b[0m, in \u001b[0;36mIndexOpsMixin._arith_method\u001b[1;34m(self, other, op)\u001b[0m\n\u001b[0;32m   1379\u001b[0m     rvalues \u001b[38;5;241m=\u001b[39m np\u001b[38;5;241m.\u001b[39marange(rvalues\u001b[38;5;241m.\u001b[39mstart, rvalues\u001b[38;5;241m.\u001b[39mstop, rvalues\u001b[38;5;241m.\u001b[39mstep)\n\u001b[0;32m   1381\u001b[0m \u001b[38;5;28;01mwith\u001b[39;00m np\u001b[38;5;241m.\u001b[39merrstate(\u001b[38;5;28mall\u001b[39m\u001b[38;5;241m=\u001b[39m\u001b[38;5;124m\"\u001b[39m\u001b[38;5;124mignore\u001b[39m\u001b[38;5;124m\"\u001b[39m):\n\u001b[1;32m-> 1382\u001b[0m     result \u001b[38;5;241m=\u001b[39m \u001b[43mops\u001b[49m\u001b[38;5;241;43m.\u001b[39;49m\u001b[43marithmetic_op\u001b[49m\u001b[43m(\u001b[49m\u001b[43mlvalues\u001b[49m\u001b[43m,\u001b[49m\u001b[43m \u001b[49m\u001b[43mrvalues\u001b[49m\u001b[43m,\u001b[49m\u001b[43m \u001b[49m\u001b[43mop\u001b[49m\u001b[43m)\u001b[49m\n\u001b[0;32m   1384\u001b[0m \u001b[38;5;28;01mreturn\u001b[39;00m \u001b[38;5;28mself\u001b[39m\u001b[38;5;241m.\u001b[39m_construct_result(result, name\u001b[38;5;241m=\u001b[39mres_name)\n",
      "File \u001b[1;32me:\\Users\\johnn\\anaconda3\\envs\\euro\\Lib\\site-packages\\pandas\\core\\ops\\array_ops.py:283\u001b[0m, in \u001b[0;36marithmetic_op\u001b[1;34m(left, right, op)\u001b[0m\n\u001b[0;32m    279\u001b[0m     _bool_arith_check(op, left, right)  \u001b[38;5;66;03m# type: ignore[arg-type]\u001b[39;00m\n\u001b[0;32m    281\u001b[0m     \u001b[38;5;66;03m# error: Argument 1 to \"_na_arithmetic_op\" has incompatible type\u001b[39;00m\n\u001b[0;32m    282\u001b[0m     \u001b[38;5;66;03m# \"Union[ExtensionArray, ndarray[Any, Any]]\"; expected \"ndarray[Any, Any]\"\u001b[39;00m\n\u001b[1;32m--> 283\u001b[0m     res_values \u001b[38;5;241m=\u001b[39m \u001b[43m_na_arithmetic_op\u001b[49m\u001b[43m(\u001b[49m\u001b[43mleft\u001b[49m\u001b[43m,\u001b[49m\u001b[43m \u001b[49m\u001b[43mright\u001b[49m\u001b[43m,\u001b[49m\u001b[43m \u001b[49m\u001b[43mop\u001b[49m\u001b[43m)\u001b[49m  \u001b[38;5;66;03m# type: ignore[arg-type]\u001b[39;00m\n\u001b[0;32m    285\u001b[0m \u001b[38;5;28;01mreturn\u001b[39;00m res_values\n",
      "File \u001b[1;32me:\\Users\\johnn\\anaconda3\\envs\\euro\\Lib\\site-packages\\pandas\\core\\ops\\array_ops.py:227\u001b[0m, in \u001b[0;36m_na_arithmetic_op\u001b[1;34m(left, right, op, is_cmp)\u001b[0m\n\u001b[0;32m    219\u001b[0m \u001b[38;5;28;01mexcept\u001b[39;00m \u001b[38;5;167;01mTypeError\u001b[39;00m:\n\u001b[0;32m    220\u001b[0m     \u001b[38;5;28;01mif\u001b[39;00m \u001b[38;5;129;01mnot\u001b[39;00m is_cmp \u001b[38;5;129;01mand\u001b[39;00m (\n\u001b[0;32m    221\u001b[0m         left\u001b[38;5;241m.\u001b[39mdtype \u001b[38;5;241m==\u001b[39m \u001b[38;5;28mobject\u001b[39m \u001b[38;5;129;01mor\u001b[39;00m \u001b[38;5;28mgetattr\u001b[39m(right, \u001b[38;5;124m\"\u001b[39m\u001b[38;5;124mdtype\u001b[39m\u001b[38;5;124m\"\u001b[39m, \u001b[38;5;28;01mNone\u001b[39;00m) \u001b[38;5;241m==\u001b[39m \u001b[38;5;28mobject\u001b[39m\n\u001b[0;32m    222\u001b[0m     ):\n\u001b[1;32m   (...)\u001b[0m\n\u001b[0;32m    225\u001b[0m         \u001b[38;5;66;03m# Don't do this for comparisons, as that will handle complex numbers\u001b[39;00m\n\u001b[0;32m    226\u001b[0m         \u001b[38;5;66;03m#  incorrectly, see GH#32047\u001b[39;00m\n\u001b[1;32m--> 227\u001b[0m         result \u001b[38;5;241m=\u001b[39m \u001b[43m_masked_arith_op\u001b[49m\u001b[43m(\u001b[49m\u001b[43mleft\u001b[49m\u001b[43m,\u001b[49m\u001b[43m \u001b[49m\u001b[43mright\u001b[49m\u001b[43m,\u001b[49m\u001b[43m \u001b[49m\u001b[43mop\u001b[49m\u001b[43m)\u001b[49m\n\u001b[0;32m    228\u001b[0m     \u001b[38;5;28;01melse\u001b[39;00m:\n\u001b[0;32m    229\u001b[0m         \u001b[38;5;28;01mraise\u001b[39;00m\n",
      "File \u001b[1;32me:\\Users\\johnn\\anaconda3\\envs\\euro\\Lib\\site-packages\\pandas\\core\\ops\\array_ops.py:182\u001b[0m, in \u001b[0;36m_masked_arith_op\u001b[1;34m(x, y, op)\u001b[0m\n\u001b[0;32m    179\u001b[0m         mask \u001b[38;5;241m=\u001b[39m np\u001b[38;5;241m.\u001b[39mwhere(y \u001b[38;5;241m==\u001b[39m \u001b[38;5;241m1\u001b[39m, \u001b[38;5;28;01mFalse\u001b[39;00m, mask)\n\u001b[0;32m    181\u001b[0m     \u001b[38;5;28;01mif\u001b[39;00m mask\u001b[38;5;241m.\u001b[39many():\n\u001b[1;32m--> 182\u001b[0m         result[mask] \u001b[38;5;241m=\u001b[39m \u001b[43mop\u001b[49m\u001b[43m(\u001b[49m\u001b[43mxrav\u001b[49m\u001b[43m[\u001b[49m\u001b[43mmask\u001b[49m\u001b[43m]\u001b[49m\u001b[43m,\u001b[49m\u001b[43m \u001b[49m\u001b[43my\u001b[49m\u001b[43m)\u001b[49m\n\u001b[0;32m    184\u001b[0m np\u001b[38;5;241m.\u001b[39mputmask(result, \u001b[38;5;241m~\u001b[39mmask, np\u001b[38;5;241m.\u001b[39mnan)\n\u001b[0;32m    185\u001b[0m result \u001b[38;5;241m=\u001b[39m result\u001b[38;5;241m.\u001b[39mreshape(x\u001b[38;5;241m.\u001b[39mshape)  \u001b[38;5;66;03m# 2D compat\u001b[39;00m\n",
      "\u001b[1;31mTypeError\u001b[0m: unsupported operand type(s) for /: 'collections.defaultdict' and 'int'"
     ]
    }
   ],
   "source": [
    "import pandas as pd\n",
    "\n",
    "def get_odds(key: str) -> pd.Series:\n",
    "    as_series = pd.Series(results[key])\n",
    "    percentage = as_series / n_runs\n",
    "    return 1 / percentage\n",
    "\n",
    "for bet_type in results:\n",
    "    # if bet_type == \"group_placements\":\n",
    "    #     for group_name, group_placements in results[bet_type].items():\n",
    "    #         odds = get_odds(group)\n",
    "    #         odds.sort_values().to_excel(f\"out/{group}.xlsx\")\n",
    "    # else:\n",
    "        odds = get_odds(bet_type)\n",
    "        odds.sort_values().to_excel(f\"out/{bet_type}.xlsx\")"
   ]
  },
  {
   "cell_type": "code",
   "execution_count": 8,
   "metadata": {},
   "outputs": [],
   "source": [
    "odds.sort_values().to_excel(\"odds.xlsx\")"
   ]
  },
  {
   "cell_type": "code",
   "execution_count": null,
   "metadata": {},
   "outputs": [],
   "source": [
    "as_series = pd.Series(results[\"Winner\"])\n",
    "percentage = (as_series / as_series.sum()).sort_values()"
   ]
  },
  {
   "cell_type": "code",
   "execution_count": null,
   "metadata": {},
   "outputs": [
    {
     "data": {
      "text/plain": [
       "0.13943"
      ]
     },
     "execution_count": 29,
     "metadata": {},
     "output_type": "execute_result"
    }
   ],
   "source": [
    "percentage[\"Turkey\"] + percentage[\"Georgia\"] + percentage[\"Portugal\"] + percentage[\"Czech Republic\"]"
   ]
  },
  {
   "cell_type": "code",
   "execution_count": 16,
   "metadata": {},
   "outputs": [
    {
     "data": {
      "text/plain": [
       "defaultdict(int,\n",
       "            {'Spain': 46857,\n",
       "             'England': 156165,\n",
       "             'Germany': 30893,\n",
       "             'Portugal': 59445,\n",
       "             'France': 95394,\n",
       "             'Denmark': 6654,\n",
       "             'Italy': 19161,\n",
       "             'Belgium': 13800,\n",
       "             'Scotland': 2512,\n",
       "             'Croatia': 4266,\n",
       "             'Netherlands': 30478,\n",
       "             'Poland': 2122,\n",
       "             'Switzerland': 3670,\n",
       "             'Hungary': 2161,\n",
       "             'Romania': 1477,\n",
       "             'Serbia': 4040,\n",
       "             'Turkey': 4125,\n",
       "             'Slovakia': 2096,\n",
       "             'Czech Republic': 2058,\n",
       "             'Ukraine': 5366,\n",
       "             'Slovenia': 1639,\n",
       "             'Georgia': 1788,\n",
       "             'Austria': 2521,\n",
       "             'Albania': 1312})"
      ]
     },
     "execution_count": 16,
     "metadata": {},
     "output_type": "execute_result"
    }
   ],
   "source": [
    "results[\"Winner\"]"
   ]
  },
  {
   "cell_type": "code",
   "execution_count": 19,
   "metadata": {},
   "outputs": [
    {
     "data": {
      "text/plain": [
       "Spain             12.779349\n",
       "Germany           14.838997\n",
       "Portugal          12.890959\n",
       "Ukraine           27.782794\n",
       "Belgium           19.106850\n",
       "Czech Republic    51.882693\n",
       "England            9.897462\n",
       "Switzerland       31.095736\n",
       "Serbia            34.022863\n",
       "Turkey            38.387348\n",
       "France            11.139331\n",
       "Croatia           30.256042\n",
       "Poland            49.395522\n",
       "Netherlands       15.593265\n",
       "Hungary           39.126692\n",
       "Italy             16.831971\n",
       "Romania           48.352392\n",
       "Scotland          35.810527\n",
       "Slovenia          51.794686\n",
       "Austria           45.296522\n",
       "Albania           50.176873\n",
       "Slovakia          41.662327\n",
       "Georgia           55.910431\n",
       "Denmark           27.346127\n",
       "dtype: float64"
      ]
     },
     "execution_count": 19,
     "metadata": {},
     "output_type": "execute_result"
    }
   ],
   "source": [
    "get_odds(\"Quarterfinals\")"
   ]
  },
  {
   "cell_type": "code",
   "execution_count": 18,
   "metadata": {},
   "outputs": [
    {
     "data": {
      "text/plain": [
       "2.5"
      ]
     },
     "execution_count": 18,
     "metadata": {},
     "output_type": "execute_result"
    }
   ],
   "source": [
    "1 / 0.4"
   ]
  },
  {
   "cell_type": "code",
   "execution_count": 20,
   "metadata": {},
   "outputs": [],
   "source": [
    "as_series = pd.Series(results[\"Quarterfinals\"])\n",
    "percentage = as_series / as_series.sum()"
   ]
  },
  {
   "cell_type": "code",
   "execution_count": 21,
   "metadata": {},
   "outputs": [
    {
     "data": {
      "text/plain": [
       "Spain             313005\n",
       "Germany           269560\n",
       "Portugal          310295\n",
       "Ukraine           143974\n",
       "Belgium           209349\n",
       "Czech Republic     77097\n",
       "England           404144\n",
       "Switzerland       128635\n",
       "Serbia            117568\n",
       "Turkey            104201\n",
       "France            359088\n",
       "Croatia           132205\n",
       "Poland             80979\n",
       "Netherlands       256521\n",
       "Hungary           102232\n",
       "Italy             237643\n",
       "Romania            82726\n",
       "Scotland          111699\n",
       "Slovenia           77228\n",
       "Austria            88307\n",
       "Albania            79718\n",
       "Slovakia           96010\n",
       "Georgia            71543\n",
       "Denmark           146273\n",
       "dtype: int64"
      ]
     },
     "execution_count": 21,
     "metadata": {},
     "output_type": "execute_result"
    }
   ],
   "source": [
    "as_series"
   ]
  },
  {
   "cell_type": "code",
   "execution_count": 22,
   "metadata": {},
   "outputs": [
    {
     "data": {
      "text/plain": [
       "Spain             0.078251\n",
       "Germany           0.067390\n",
       "Portugal          0.077574\n",
       "Ukraine           0.035993\n",
       "Belgium           0.052337\n",
       "Czech Republic    0.019274\n",
       "England           0.101036\n",
       "Switzerland       0.032159\n",
       "Serbia            0.029392\n",
       "Turkey            0.026050\n",
       "France            0.089772\n",
       "Croatia           0.033051\n",
       "Poland            0.020245\n",
       "Netherlands       0.064130\n",
       "Hungary           0.025558\n",
       "Italy             0.059411\n",
       "Romania           0.020681\n",
       "Scotland          0.027925\n",
       "Slovenia          0.019307\n",
       "Austria           0.022077\n",
       "Albania           0.019929\n",
       "Slovakia          0.024002\n",
       "Georgia           0.017886\n",
       "Denmark           0.036568\n",
       "dtype: float64"
      ]
     },
     "execution_count": 22,
     "metadata": {},
     "output_type": "execute_result"
    }
   ],
   "source": [
    "percentage"
   ]
  },
  {
   "cell_type": "code",
   "execution_count": null,
   "metadata": {},
   "outputs": [],
   "source": []
  }
 ],
 "metadata": {
  "kernelspec": {
   "display_name": "festivalmatch",
   "language": "python",
   "name": "python3"
  },
  "language_info": {
   "codemirror_mode": {
    "name": "ipython",
    "version": 3
   },
   "file_extension": ".py",
   "mimetype": "text/x-python",
   "name": "python",
   "nbconvert_exporter": "python",
   "pygments_lexer": "ipython3",
   "version": "3.12.3"
  }
 },
 "nbformat": 4,
 "nbformat_minor": 2
}
