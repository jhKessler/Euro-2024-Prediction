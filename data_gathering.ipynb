{
 "cells": [
  {
   "cell_type": "code",
   "execution_count": 1,
   "metadata": {},
   "outputs": [],
   "source": [
    "from src.simulation.group_phase import simulate_group_phase\n",
    "from src.simulation.bracket import get_knockout_games\n",
    "from src.model import GoalSampler\n",
    "import pandas as pd\n",
    "from collections import defaultdict\n",
    "from tqdm import tqdm\n",
    "\n",
    "group_games = pd.read_csv(r\"data\\cleaned\\2024_games.csv\", sep=\";\")\n",
    "group_games = group_games[group_games[\"group\"].notna()]\n",
    "market_values = pd.read_csv(r\"data\\cleaned\\2024_market_values.csv\", sep=\";\", index_col=\"Country\")[\"MarketValue\"]\n",
    "goal_sampler = GoalSampler()\n",
    "stages = [\"Round of 16\", \"Quarterfinals\", \"Semifinals\", \"Final\"]\n",
    "results = {stage: defaultdict(int) for stage in stages}\n",
    "results[\"Winner\"] = defaultdict(int)\n",
    "\n",
    "\n",
    "def simulate_tournament(group_games: pd.DataFrame, market_values: pd.Series) -> str:\n",
    "    global results\n",
    "    group_results = simulate_group_phase(group_games)\n",
    "    next_games = get_knockout_games(group_results)\n",
    "\n",
    "    for stage in stages:\n",
    "        for team1, team2 in next_games:\n",
    "            results[stage][team1] += 1\n",
    "            results[stage][team2] += 1\n",
    "\n",
    "        round_winners = [\n",
    "            goal_sampler.get_knockout_stage_winner(team1, team2, market_values[team1], market_values[team2]) for team1, team2 in next_games\n",
    "        ]\n",
    "        if len(round_winners) == 1:\n",
    "            results[\"Winner\"][round_winners[0]] += 1\n",
    "            return\n",
    "        next_games = [round_winners[i:i + 2] for i in range(0, len(round_winners), 2)]"
   ]
  },
  {
   "cell_type": "code",
   "execution_count": 2,
   "metadata": {},
   "outputs": [
    {
     "name": "stderr",
     "output_type": "stream",
     "text": [
      "100%|█████████▉| 999/1000 [00:29<00:00, 33.46it/s]"
     ]
    }
   ],
   "source": [
    "n_runs = 100_000\n",
    "pbar = tqdm(total=n_runs)\n",
    "\n",
    "for simulation_run in range(n_runs):\n",
    "    simulate_tournament(group_games, market_values)\n",
    "    pbar.update(1)"
   ]
  },
  {
   "cell_type": "code",
   "execution_count": 3,
   "metadata": {},
   "outputs": [
    {
     "data": {
      "text/plain": [
       "defaultdict(int,\n",
       "            {'Netherlands': 80,\n",
       "             'Portugal': 107,\n",
       "             'England': 271,\n",
       "             'France': 170,\n",
       "             'Belgium': 40,\n",
       "             'Ukraine': 19,\n",
       "             'Germany': 65,\n",
       "             'Spain': 80,\n",
       "             'Turkey': 16,\n",
       "             'Italy': 52,\n",
       "             'Scotland': 8,\n",
       "             'Slovakia': 10,\n",
       "             'Georgia': 4,\n",
       "             'Switzerland': 5,\n",
       "             'Czech Republic': 8,\n",
       "             'Hungary': 4,\n",
       "             'Denmark': 22,\n",
       "             'Serbia': 12,\n",
       "             'Croatia': 9,\n",
       "             'Romania': 5,\n",
       "             'Slovenia': 4,\n",
       "             'Austria': 2,\n",
       "             'Poland': 4,\n",
       "             'Albania': 3})"
      ]
     },
     "execution_count": 3,
     "metadata": {},
     "output_type": "execute_result"
    },
    {
     "name": "stderr",
     "output_type": "stream",
     "text": [
      "100%|██████████| 1000/1000 [00:40<00:00, 33.46it/s]"
     ]
    }
   ],
   "source": [
    "results[\"Winner\"]"
   ]
  },
  {
   "cell_type": "code",
   "execution_count": null,
   "metadata": {},
   "outputs": [],
   "source": []
  }
 ],
 "metadata": {
  "kernelspec": {
   "display_name": "festivalmatch",
   "language": "python",
   "name": "python3"
  },
  "language_info": {
   "codemirror_mode": {
    "name": "ipython",
    "version": 3
   },
   "file_extension": ".py",
   "mimetype": "text/x-python",
   "name": "python",
   "nbconvert_exporter": "python",
   "pygments_lexer": "ipython3",
   "version": "3.12.3"
  }
 },
 "nbformat": 4,
 "nbformat_minor": 2
}
